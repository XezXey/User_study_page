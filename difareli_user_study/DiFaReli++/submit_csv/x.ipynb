{
 "cells": [
  {
   "cell_type": "code",
   "execution_count": null,
   "metadata": {},
   "outputs": [
    {
     "name": "stdout",
     "output_type": "stream",
     "text": [
      "pair2104#pair1412#pair459#pair1682#pair2465#pair228#pair1802#pair567#pair2876#pair1105\n",
      "pair75#pair39#pair91#pair88#pair94#pair64#pair6#pair79#pair85#pair15\n",
      "pair1164#pair2461#pair433#pair1339#pair2647#pair1878#pair274#pair2706#pair1264#pair250\n",
      "pair2#pair40#pair18#pair61#pair89#pair31#pair86#pair55#pair1#pair87\n",
      "pair1233#pair1455#pair883#pair96#pair1098#pair2724#pair1933#pair1300#pair2600#pair2584\n",
      "pair13#pair96#pair92#pair25#pair19#pair71#pair33#pair59#pair30#pair98\n",
      "pair2766#pair1342#pair611#pair1683#pair2899#pair2616#pair714#pair1791#pair1453#pair2768\n",
      "pair50#pair48#pair26#pair16#pair38#pair47#pair41#pair78#pair70#pair77\n",
      "pair833#pair2362#pair2920#pair1602#pair751#pair1261#pair964#pair2084#pair1446#pair1552\n",
      "pair17#pair76#pair3#pair12#pair29#pair21#pair68#pair27#pair32#pair45\n",
      "pair1274#pair1380#pair2734#pair252#pair185#pair1669#pair589#pair1932#pair1921#pair1832\n",
      "pair37#pair23#pair80#pair4#pair82#pair14#pair90#pair63#pair57#pair43\n",
      "pair1240#pair2919#pair1363#pair2678#pair1381#pair2669#pair466#pair1437#pair1590#pair263\n",
      "pair69#pair11#pair44#pair62#pair20#pair22#pair28#pair34#pair58#pair10\n",
      "pair2434#pair2880#pair1814#pair2555#pair511#pair555#pair1444#pair244#pair2984#pair2123\n",
      "pair83#pair36#pair5#pair67#pair65#pair35#pair74#pair49#pair54#pair84\n",
      "pair2707#pair3079#pair1382#pair406#pair755#pair2841#pair1301#pair2788#pair954#pair324\n",
      "pair42#pair95#pair53#pair66#pair51#pair56#pair46#pair97#pair99#pair93\n",
      "pair2523#pair2562#pair590#pair734#pair629#pair2760#pair1194#pair2462#pair2668#pair2147\n",
      "pair60#pair24#pair81#pair52#pair73#pair9#pair72#pair7#pair8\n"
     ]
    },
    {
     "name": "stderr",
     "output_type": "stream",
     "text": [
      "/tmp/ipykernel_1380879/2671623614.py:14: SettingWithCopyWarning: \n",
      "A value is trying to be set on a copy of a slice from a DataFrame\n",
      "\n",
      "See the caveats in the documentation: https://pandas.pydata.org/pandas-docs/stable/user_guide/indexing.html#returning-a-view-versus-a-copy\n",
      "  out_df['sj_name'][i] = '#'.join([f'pair{x}' for x in sj_group[i]])\n"
     ]
    }
   ],
   "source": [
    "import numpy as np\n",
    "import pandas as pd\n",
    "np.random.seed(47)\n",
    "\n",
    "out_df = pd.read_csv('tpami_userstudy_sub0.csv')\n",
    "sj_name = list(range(1, 100))\n",
    "np.random.shuffle(sj_name)\n",
    "# Sub into 10 groups\n",
    "sj_group = np.array_split(sj_name, 10)\n",
    "# Replace each row in the out_df with a random sj\n",
    "# print(out_df)\n",
    "for i in range(10):\n",
    "    print(out_df['sj_name'][i])\n",
    "    out_df['sj_name'][i] = '#'.join([f'pair{x}' for x in sj_group[i]])\n",
    "    print(out_df['sj_name'][i])\n",
    "\n",
    "out_df.to_csv('tpami_userstudy_sub_reindex.csv', index=False)\n",
    "\n",
    "\n"
   ]
  }
 ],
 "metadata": {
  "kernelspec": {
   "display_name": "dpm_sampling_deca",
   "language": "python",
   "name": "python3"
  },
  "language_info": {
   "codemirror_mode": {
    "name": "ipython",
    "version": 3
   },
   "file_extension": ".py",
   "mimetype": "text/x-python",
   "name": "python",
   "nbconvert_exporter": "python",
   "pygments_lexer": "ipython3",
   "version": "3.8.12"
  }
 },
 "nbformat": 4,
 "nbformat_minor": 2
}
