{
 "cells": [
  {
   "cell_type": "code",
   "execution_count": 64,
   "metadata": {},
   "outputs": [
    {
     "name": "stdout",
     "output_type": "stream",
     "text": [
      "Total q1 answer:  300\n",
      "Total q2 answer:  300\n",
      "====================================================================================================\n",
      "Answer: \n",
      "Q1:  {'difareli_canny=153to204': 109, 'hou22_geom': 54, 'hou21_shadowm': 93, 'total_relighting': 44}\n",
      "Q2:  {'difareli_canny=153to204': 138, 'hou22_geom': 44, 'hou21_shadowm': 64, 'total_relighting': 54}\n",
      "Total:  {'difareli_canny=153to204': 247, 'hou22_geom': 98, 'hou21_shadowm': 157, 'total_relighting': 98}\n",
      "====================================================================================================\n",
      "Percentage: \n",
      "Q1:  {'difareli_canny=153to204': 0.36333333333333334, 'hou22_geom': 0.18, 'hou21_shadowm': 0.31, 'total_relighting': 0.14666666666666667}\n",
      "Q2:  {'difareli_canny=153to204': 0.46, 'hou22_geom': 0.14666666666666667, 'hou21_shadowm': 0.21333333333333335, 'total_relighting': 0.18}\n",
      "Total:  {'difareli_canny=153to204': 0.4116666666666667, 'hou22_geom': 0.16333333333333333, 'hou21_shadowm': 0.26166666666666666, 'total_relighting': 0.16333333333333333}\n"
     ]
    }
   ],
   "source": [
    "import numpy as np\n",
    "import pandas as pd\n",
    "import matplotlib.pyplot as plt\n",
    "import json\n",
    "\n",
    "data = pd.read_csv('./Batch_5195441_batch_results.csv')\n",
    "df = data[['Input.sj_name', 'WorkTimeInSeconds', 'WorkerId', 'Answer.taskAnswers']]\n",
    "\n",
    "\n",
    "out_q1 = {\n",
    "    'difareli_canny=153to204': 0,\n",
    "    'hou22_geom': 0,\n",
    "    'hou21_shadowm': 0,\n",
    "    'total_relighting': 0,\n",
    "}\n",
    "out_q2 = {\n",
    "    'difareli_canny=153to204': 0,\n",
    "    'hou22_geom': 0,\n",
    "    'hou21_shadowm': 0,\n",
    "    'total_relighting': 0,\n",
    "}\n",
    "for i in range(len(df)):\n",
    "    answer = json.loads(df.iloc[i]['Answer.taskAnswers'])\n",
    "    assert len(answer) == 1\n",
    "    answer = answer[0]\n",
    "    # print(list(answer.keys())[:20])\n",
    "    # print(list(answer.keys())[20:])\n",
    "    for a in list(answer.keys())[:20]:\n",
    "        tmp = [x for x, y in answer[a].items() if y is True]\n",
    "        assert len(tmp) == 1\n",
    "        qidx = int(a.split('_')[0][1:])\n",
    "        user_ans = tmp[0][3:]\n",
    "        assert qidx != 0\n",
    "        if qidx % 2 != 0:\n",
    "            out_q1[user_ans] += 1\n",
    "        else: out_q2[user_ans] += 1\n",
    "        \n",
    "n_out_q1 = sum([v for v in out_q1.values()])\n",
    "n_out_q2 = sum([v for v in out_q2.values()])\n",
    "\n",
    "total = {}\n",
    "for k in out_q1.keys():\n",
    "    total[k] = out_q1[k] + out_q2[k]\n",
    "    \n",
    "print(\"Total q1 answer: \", n_out_q1)\n",
    "print(\"Total q2 answer: \", n_out_q2)\n",
    "print(\"=\"*100)\n",
    "print(\"Answer: \")\n",
    "print(\"Q1: \", out_q1)\n",
    "print(\"Q2: \", out_q2)\n",
    "print(\"Total: \", total)\n",
    "\n",
    "perc_out_q1 = {k: v/n_out_q1 for k, v in out_q1.items()}\n",
    "perc_out_q2 = {k: v/n_out_q2 for k, v in out_q2.items()}\n",
    "perc_out_total = {k: v/(n_out_q1+n_out_q2) for k, v in total.items()}\n",
    "\n",
    "print(\"=\"*100)\n",
    "print(\"Percentage: \")\n",
    "print(\"Q1: \", perc_out_q1)\n",
    "print(\"Q2: \", perc_out_q2)\n",
    "print(\"Total: \", perc_out_total)\n"
   ]
  }
 ],
 "metadata": {
  "kernelspec": {
   "display_name": "Python 3",
   "language": "python",
   "name": "python3"
  },
  "language_info": {
   "codemirror_mode": {
    "name": "ipython",
    "version": 3
   },
   "file_extension": ".py",
   "mimetype": "text/x-python",
   "name": "python",
   "nbconvert_exporter": "python",
   "pygments_lexer": "ipython3",
   "version": "3.8.10"
  }
 },
 "nbformat": 4,
 "nbformat_minor": 2
}
