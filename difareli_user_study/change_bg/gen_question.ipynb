{
 "cells": [
  {
   "cell_type": "code",
   "execution_count": 30,
   "metadata": {},
   "outputs": [
    {
     "name": "stderr",
     "output_type": "stream",
     "text": [
      "Global seed set to 42\n"
     ]
    }
   ],
   "source": [
    "import pytorch_lightning as pl\n",
    "import glob\n",
    "import numpy as np\n",
    "import pandas as pd\n",
    "\n",
    "pl.seed_everything(42)\n",
    "\n",
    "\n",
    "n_subjects = 1000\n",
    "n_img_seen = 5\n",
    "\n",
    "data = glob.glob('/home/mint/Dev/DiFaReli/user_study/difareli_user_study/change_bg/dat/randomly_for_mturk/eval_pairs/pair*')\n",
    "pair_list = [x.split('/')[-1] for x in data]\n",
    "np.random.shuffle(pair_list)\n",
    "pair_hits = ['#'.join(pair_list[i:i + n_img_seen]) for i in range(0, len(pair_list), n_img_seen)]\n",
    "\n",
    "radioGroupName = [1] * len(pair_hits)\n",
    "scenario = [1] * len(pair_hits)\n",
    "question = [1] * len(pair_hits)\n",
    "\n",
    "input_csv = pd.DataFrame({'scenario': scenario,\n",
    "                          'question': question,\n",
    "                          'sj_name': pair_hits,\n",
    "                          'radioGroupName': radioGroupName,\n",
    "                        })\n",
    "\n",
    "input_csv.to_csv('./input.csv', index=False)\n",
    "\n",
    "\n",
    "\n",
    "\n"
   ]
  }
 ],
 "metadata": {
  "kernelspec": {
   "display_name": "dpm_sampling_deca",
   "language": "python",
   "name": "python3"
  },
  "language_info": {
   "codemirror_mode": {
    "name": "ipython",
    "version": 3
   },
   "file_extension": ".py",
   "mimetype": "text/x-python",
   "name": "python",
   "nbconvert_exporter": "python",
   "pygments_lexer": "ipython3",
   "version": "3.8.12"
  }
 },
 "nbformat": 4,
 "nbformat_minor": 2
}
