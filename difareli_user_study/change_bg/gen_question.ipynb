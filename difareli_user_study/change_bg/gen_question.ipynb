{
 "cells": [
  {
   "cell_type": "code",
   "execution_count": 11,
   "metadata": {},
   "outputs": [
    {
     "name": "stderr",
     "output_type": "stream",
     "text": [
      "Global seed set to 4747\n"
     ]
    }
   ],
   "source": [
    "import pytorch_lightning as pl\n",
    "import glob, os\n",
    "import numpy as np\n",
    "import pandas as pd\n",
    "\n",
    "pl.seed_everything(4747)\n",
    "\n",
    "\n",
    "# n_subjects = 1000\n",
    "n_subjects = 300\n",
    "n_img_seen = 10\n",
    "\n",
    "# data = glob.glob('/home/mint/Dev/DiFaReli/user_study/difareli_user_study/change_bg/dat/randomly_for_mturk/eval_pairs/pair*')\n",
    "# data = glob.glob('./dat/randomly_for_mturk/eval_pairs/pair*')\n",
    "data_path = \"./dat/randomly_for_mturk/all_pairs_full/\"\n",
    "data = glob.glob(data_path + '/pair*')\n",
    "pre_def = [\n",
    "  1098, 1105, 1921, 1932, 1933, 185, 228, 244, 250, 252, 263, 274, 324, 406,\n",
    "  433, 459, 466, 511, 555, 567, 589, 590, 629, 734, 751, 755, 833, 883, 964, \n",
    "  1164, 1194, 1240, 1261, 1264, 1274, 1300, 1301, 1339, 1342, 1363, 1380, 1381, \n",
    "  1382, 1412, 1437, 1444, 1446, 1453, 1455, 1552, 1590, 1602, 1669, 1682, 1683, \n",
    "  1791, 1802, 1814, 1832, 1878, 2084, 2104, 2123, 2147, 2362, 2434, 2461, 2462,\n",
    "  2523, 2555, 2562, 2584, 2600, 2616, 2668, 2669, 2706, 2678, 2707, 2724, 2734, \n",
    "  2760, 2768, 2788, 2841, 2876, 2880, 2899, 2919, 2920, 2984, 3079\n",
    "]\n",
    "pre_def = sorted(pre_def)\n",
    "\n",
    "print(len(pre_def))\n",
    "\n",
    "pair_list = [x.split('/')[-1] for x in data]\n",
    "\n",
    "# Fill pre_def until reach n_subjects = 100 and not repeat\n",
    "for i in range(0, n_subjects - len(pre_def)):\n",
    "  while True:\n",
    "    idx = np.random.randint(1, len(pair_list)+1)\n",
    "    if idx not in pre_def:\n",
    "      pre_def.append(idx)\n",
    "      break\n",
    "\n",
    "sub_set = [100, 100, 100]\n",
    "\n",
    "pre_def = [f'pair{idx}' for idx in pre_def]\n",
    "pre_def_reidx = [f'pair{idx}' for idx in pre_def]\n",
    "\n",
    "# Create eval_pairs folder in pre_def\n",
    "os.makedirs(f'./dat/randomly_for_mturk/eval_pairs/', exist_ok=True)\n",
    "# os.makedirs(f'./dat/randomly_for_mturk/eval_pairs_reidx/', exist_ok=True)\n",
    "\n",
    "\n",
    "\n",
    "ptr = 0\n",
    "for idx, s in enumerate(sub_set):\n",
    "  sub_pre_def = pre_def[ptr:ptr+s].copy()\n",
    "  print(sub_pre_def)\n",
    "  print(len(sub_pre_def))\n",
    "  print(\"Before shuffle: \", sub_pre_def)\n",
    "  np.random.shuffle(sub_pre_def)\n",
    "  print(\"After shuffle: \", sub_pre_def)\n",
    "  \n",
    "  \n",
    "  # Create eval_pairs folder in pre_def\n",
    "  for counter, idx in enumerate(pre_def):\n",
    "    os.system(f'cp -r {data_path}/{idx} ./dat/randomly_for_mturk/eval_pairs/')\n",
    "  \n",
    "  pair_hits = ['#'.join(sub_pre_def[i:i + n_img_seen]) for i in range(0, len(sub_pre_def), n_img_seen)]\n",
    "  print(pair_hits)\n",
    "\n",
    "  radioGroupName = [1] * len(pair_hits)\n",
    "  scenario = [1] * len(pair_hits)\n",
    "  question = [1] * len(pair_hits)\n",
    "\n",
    "  input_csv = pd.DataFrame({'scenario': scenario,\n",
    "                            'question': question,\n",
    "                            'sj_name': pair_hits,\n",
    "                            'radioGroupName': radioGroupName,\n",
    "                          })\n",
    "\n",
    "  input_csv.to_csv(f'./tpami_userstudy_sub{idx}.csv', index=False)\n",
    "  ptr+=s"
   ]
  },
  {
   "cell_type": "code",
   "execution_count": 8,
   "metadata": {},
   "outputs": [
    {
     "name": "stderr",
     "output_type": "stream",
     "text": [
      "Global seed set to 42\n"
     ]
    }
   ],
   "source": [
    "import pytorch_lightning as pl\n",
    "import glob\n",
    "import numpy as np\n",
    "import pandas as pd\n",
    "\n",
    "pl.seed_everything(42)\n",
    "\n",
    "\n",
    "n_subjects = 1000\n",
    "n_img_seen = 5\n",
    "\n",
    "data = glob.glob('/home/mint/Dev/DiFaReli/user_study/difareli_user_study/change_bg/dat/randomly_for_mturk/eval_pairs/pair*')\n",
    "pair_list = [x.split('/')[-1] for x in data]\n",
    "np.random.shuffle(pair_list)\n",
    "pair_hits = ['#'.join(pair_list[i:i + n_img_seen]) for i in range(0, len(pair_list), n_img_seen)]\n",
    "\n",
    "radioGroupName = [1] * len(pair_hits)\n",
    "scenario = [1] * len(pair_hits)\n",
    "question = [1] * len(pair_hits)\n",
    "\n",
    "input_csv = pd.DataFrame({'scenario': scenario,\n",
    "                          'question': question,\n",
    "                          'sj_name': pair_hits,\n",
    "                          'radioGroupName': radioGroupName,\n",
    "                        })\n",
    "\n",
    "input_csv.to_csv('./input.csv', index=False)\n",
    "\n",
    "\n",
    "\n",
    "\n"
   ]
  }
 ],
 "metadata": {
  "kernelspec": {
   "display_name": "dpm_sampling_deca",
   "language": "python",
   "name": "python3"
  },
  "language_info": {
   "codemirror_mode": {
    "name": "ipython",
    "version": 3
   },
   "file_extension": ".py",
   "mimetype": "text/x-python",
   "name": "python",
   "nbconvert_exporter": "python",
   "pygments_lexer": "ipython3",
   "version": "3.8.12"
  }
 },
 "nbformat": 4,
 "nbformat_minor": 2
}
