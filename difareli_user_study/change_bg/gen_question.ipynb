{
 "cells": [
  {
   "cell_type": "code",
   "execution_count": 11,
   "metadata": {},
   "outputs": [
    {
     "name": "stderr",
     "output_type": "stream",
     "text": [
      "Global seed set to 4747\n"
     ]
    },
    {
     "name": "stdout",
     "output_type": "stream",
     "text": [
      "92\n",
      "['pair185', 'pair228', 'pair244', 'pair250', 'pair252', 'pair263', 'pair274', 'pair324', 'pair406', 'pair433', 'pair459', 'pair466', 'pair511', 'pair555', 'pair567', 'pair589', 'pair590', 'pair629', 'pair734', 'pair751', 'pair755', 'pair833', 'pair883', 'pair964', 'pair1098', 'pair1105', 'pair1164', 'pair1194', 'pair1240', 'pair1261', 'pair1264', 'pair1274', 'pair1300', 'pair1301', 'pair1339', 'pair1342', 'pair1363', 'pair1380', 'pair1381', 'pair1382', 'pair1412', 'pair1437', 'pair1444', 'pair1446', 'pair1453', 'pair1455', 'pair1552', 'pair1590', 'pair1602', 'pair1669', 'pair1682', 'pair1683', 'pair1791', 'pair1802', 'pair1814', 'pair1832', 'pair1878', 'pair1921', 'pair1932', 'pair1933', 'pair2084', 'pair2104', 'pair2123', 'pair2147', 'pair2362', 'pair2434', 'pair2461', 'pair2462', 'pair2523', 'pair2555', 'pair2562', 'pair2584', 'pair2600', 'pair2616', 'pair2668', 'pair2669', 'pair2678', 'pair2706', 'pair2707', 'pair2724', 'pair2734', 'pair2760', 'pair2768', 'pair2788', 'pair2841', 'pair2876', 'pair2880', 'pair2899', 'pair2919', 'pair2920', 'pair2984', 'pair3079', 'pair2647', 'pair954', 'pair611', 'pair2766', 'pair714', 'pair2465', 'pair96', 'pair1233']\n",
      "100\n",
      "Before shuffle:  ['pair185', 'pair228', 'pair244', 'pair250', 'pair252', 'pair263', 'pair274', 'pair324', 'pair406', 'pair433', 'pair459', 'pair466', 'pair511', 'pair555', 'pair567', 'pair589', 'pair590', 'pair629', 'pair734', 'pair751', 'pair755', 'pair833', 'pair883', 'pair964', 'pair1098', 'pair1105', 'pair1164', 'pair1194', 'pair1240', 'pair1261', 'pair1264', 'pair1274', 'pair1300', 'pair1301', 'pair1339', 'pair1342', 'pair1363', 'pair1380', 'pair1381', 'pair1382', 'pair1412', 'pair1437', 'pair1444', 'pair1446', 'pair1453', 'pair1455', 'pair1552', 'pair1590', 'pair1602', 'pair1669', 'pair1682', 'pair1683', 'pair1791', 'pair1802', 'pair1814', 'pair1832', 'pair1878', 'pair1921', 'pair1932', 'pair1933', 'pair2084', 'pair2104', 'pair2123', 'pair2147', 'pair2362', 'pair2434', 'pair2461', 'pair2462', 'pair2523', 'pair2555', 'pair2562', 'pair2584', 'pair2600', 'pair2616', 'pair2668', 'pair2669', 'pair2678', 'pair2706', 'pair2707', 'pair2724', 'pair2734', 'pair2760', 'pair2768', 'pair2788', 'pair2841', 'pair2876', 'pair2880', 'pair2899', 'pair2919', 'pair2920', 'pair2984', 'pair3079', 'pair2647', 'pair954', 'pair611', 'pair2766', 'pair714', 'pair2465', 'pair96', 'pair1233']\n",
      "After shuffle:  ['pair2104', 'pair1412', 'pair459', 'pair1682', 'pair2465', 'pair228', 'pair1802', 'pair567', 'pair2876', 'pair1105', 'pair1164', 'pair2461', 'pair433', 'pair1339', 'pair2647', 'pair1878', 'pair274', 'pair2706', 'pair1264', 'pair250', 'pair1233', 'pair1455', 'pair883', 'pair96', 'pair1098', 'pair2724', 'pair1933', 'pair1300', 'pair2600', 'pair2584', 'pair2766', 'pair1342', 'pair611', 'pair1683', 'pair2899', 'pair2616', 'pair714', 'pair1791', 'pair1453', 'pair2768', 'pair833', 'pair2362', 'pair2920', 'pair1602', 'pair751', 'pair1261', 'pair964', 'pair2084', 'pair1446', 'pair1552', 'pair1274', 'pair1380', 'pair2734', 'pair252', 'pair185', 'pair1669', 'pair589', 'pair1932', 'pair1921', 'pair1832', 'pair1240', 'pair2919', 'pair1363', 'pair2678', 'pair1381', 'pair2669', 'pair466', 'pair1437', 'pair1590', 'pair263', 'pair2434', 'pair2880', 'pair1814', 'pair2555', 'pair511', 'pair555', 'pair1444', 'pair244', 'pair2984', 'pair2123', 'pair2707', 'pair3079', 'pair1382', 'pair406', 'pair755', 'pair2841', 'pair1301', 'pair2788', 'pair954', 'pair324', 'pair2523', 'pair2562', 'pair590', 'pair734', 'pair629', 'pair2760', 'pair1194', 'pair2462', 'pair2668', 'pair2147']\n",
      "['pair2104#pair1412#pair459#pair1682#pair2465#pair228#pair1802#pair567#pair2876#pair1105', 'pair1164#pair2461#pair433#pair1339#pair2647#pair1878#pair274#pair2706#pair1264#pair250', 'pair1233#pair1455#pair883#pair96#pair1098#pair2724#pair1933#pair1300#pair2600#pair2584', 'pair2766#pair1342#pair611#pair1683#pair2899#pair2616#pair714#pair1791#pair1453#pair2768', 'pair833#pair2362#pair2920#pair1602#pair751#pair1261#pair964#pair2084#pair1446#pair1552', 'pair1274#pair1380#pair2734#pair252#pair185#pair1669#pair589#pair1932#pair1921#pair1832', 'pair1240#pair2919#pair1363#pair2678#pair1381#pair2669#pair466#pair1437#pair1590#pair263', 'pair2434#pair2880#pair1814#pair2555#pair511#pair555#pair1444#pair244#pair2984#pair2123', 'pair2707#pair3079#pair1382#pair406#pair755#pair2841#pair1301#pair2788#pair954#pair324', 'pair2523#pair2562#pair590#pair734#pair629#pair2760#pair1194#pair2462#pair2668#pair2147']\n",
      "['pair2850', 'pair1389', 'pair53', 'pair1581', 'pair2617', 'pair414', 'pair2657', 'pair3040', 'pair1', 'pair2541', 'pair1372', 'pair906', 'pair2680', 'pair1717', 'pair394', 'pair2529', 'pair2143', 'pair1284', 'pair787', 'pair2266', 'pair588', 'pair747', 'pair2260', 'pair2799', 'pair1980', 'pair69', 'pair507', 'pair2120', 'pair2210', 'pair2581', 'pair420', 'pair489', 'pair74', 'pair306', 'pair2727', 'pair1889', 'pair2346', 'pair1865', 'pair2656', 'pair1460', 'pair1122', 'pair2996', 'pair841', 'pair563', 'pair1117', 'pair76', 'pair2387', 'pair1351', 'pair2767', 'pair799', 'pair8', 'pair399', 'pair2610', 'pair1671', 'pair2597', 'pair1570', 'pair2040', 'pair2460', 'pair2472', 'pair2011', 'pair2729', 'pair1631', 'pair411', 'pair2869', 'pair2986', 'pair898', 'pair435', 'pair2976', 'pair351', 'pair596', 'pair2900', 'pair260', 'pair1993', 'pair1123', 'pair2626', 'pair2891', 'pair754', 'pair2133', 'pair2629', 'pair2417', 'pair2980', 'pair2712', 'pair2967', 'pair1893', 'pair188', 'pair2144', 'pair2544', 'pair36', 'pair1050', 'pair1660', 'pair1312', 'pair2219', 'pair181', 'pair307', 'pair1316', 'pair231', 'pair1027', 'pair2103', 'pair730', 'pair989']\n",
      "100\n",
      "Before shuffle:  ['pair2850', 'pair1389', 'pair53', 'pair1581', 'pair2617', 'pair414', 'pair2657', 'pair3040', 'pair1', 'pair2541', 'pair1372', 'pair906', 'pair2680', 'pair1717', 'pair394', 'pair2529', 'pair2143', 'pair1284', 'pair787', 'pair2266', 'pair588', 'pair747', 'pair2260', 'pair2799', 'pair1980', 'pair69', 'pair507', 'pair2120', 'pair2210', 'pair2581', 'pair420', 'pair489', 'pair74', 'pair306', 'pair2727', 'pair1889', 'pair2346', 'pair1865', 'pair2656', 'pair1460', 'pair1122', 'pair2996', 'pair841', 'pair563', 'pair1117', 'pair76', 'pair2387', 'pair1351', 'pair2767', 'pair799', 'pair8', 'pair399', 'pair2610', 'pair1671', 'pair2597', 'pair1570', 'pair2040', 'pair2460', 'pair2472', 'pair2011', 'pair2729', 'pair1631', 'pair411', 'pair2869', 'pair2986', 'pair898', 'pair435', 'pair2976', 'pair351', 'pair596', 'pair2900', 'pair260', 'pair1993', 'pair1123', 'pair2626', 'pair2891', 'pair754', 'pair2133', 'pair2629', 'pair2417', 'pair2980', 'pair2712', 'pair2967', 'pair1893', 'pair188', 'pair2144', 'pair2544', 'pair36', 'pair1050', 'pair1660', 'pair1312', 'pair2219', 'pair181', 'pair307', 'pair1316', 'pair231', 'pair1027', 'pair2103', 'pair730', 'pair989']\n",
      "After shuffle:  ['pair906', 'pair306', 'pair2266', 'pair898', 'pair1581', 'pair1284', 'pair2967', 'pair2729', 'pair2869', 'pair2976', 'pair588', 'pair1122', 'pair2656', 'pair1117', 'pair1865', 'pair76', 'pair2472', 'pair2891', 'pair2712', 'pair2581', 'pair231', 'pair8', 'pair2219', 'pair2143', 'pair1312', 'pair3040', 'pair2040', 'pair2767', 'pair2529', 'pair2133', 'pair1123', 'pair1', 'pair1893', 'pair188', 'pair2460', 'pair1389', 'pair989', 'pair730', 'pair260', 'pair399', 'pair2657', 'pair1980', 'pair307', 'pair2260', 'pair1316', 'pair563', 'pair747', 'pair2980', 'pair596', 'pair2544', 'pair2680', 'pair1570', 'pair799', 'pair53', 'pair2727', 'pair1631', 'pair36', 'pair1993', 'pair1460', 'pair787', 'pair2799', 'pair2417', 'pair394', 'pair2996', 'pair1660', 'pair1889', 'pair2986', 'pair2103', 'pair2346', 'pair2210', 'pair489', 'pair2144', 'pair414', 'pair754', 'pair2610', 'pair1351', 'pair2617', 'pair1717', 'pair411', 'pair2541', 'pair351', 'pair507', 'pair1671', 'pair2629', 'pair435', 'pair2387', 'pair2626', 'pair1050', 'pair1027', 'pair2900', 'pair1372', 'pair2850', 'pair2011', 'pair2120', 'pair841', 'pair181', 'pair2597', 'pair420', 'pair69', 'pair74']\n",
      "['pair906#pair306#pair2266#pair898#pair1581#pair1284#pair2967#pair2729#pair2869#pair2976', 'pair588#pair1122#pair2656#pair1117#pair1865#pair76#pair2472#pair2891#pair2712#pair2581', 'pair231#pair8#pair2219#pair2143#pair1312#pair3040#pair2040#pair2767#pair2529#pair2133', 'pair1123#pair1#pair1893#pair188#pair2460#pair1389#pair989#pair730#pair260#pair399', 'pair2657#pair1980#pair307#pair2260#pair1316#pair563#pair747#pair2980#pair596#pair2544', 'pair2680#pair1570#pair799#pair53#pair2727#pair1631#pair36#pair1993#pair1460#pair787', 'pair2799#pair2417#pair394#pair2996#pair1660#pair1889#pair2986#pair2103#pair2346#pair2210', 'pair489#pair2144#pair414#pair754#pair2610#pair1351#pair2617#pair1717#pair411#pair2541', 'pair351#pair507#pair1671#pair2629#pair435#pair2387#pair2626#pair1050#pair1027#pair2900', 'pair1372#pair2850#pair2011#pair2120#pair841#pair181#pair2597#pair420#pair69#pair74']\n",
      "['pair1608', 'pair860', 'pair1807', 'pair280', 'pair496', 'pair2864', 'pair1251', 'pair1145', 'pair902', 'pair1288', 'pair2174', 'pair2052', 'pair2108', 'pair3024', 'pair2778', 'pair419', 'pair1397', 'pair1125', 'pair2194', 'pair1430', 'pair952', 'pair2757', 'pair509', 'pair1073', 'pair177', 'pair2306', 'pair1159', 'pair650', 'pair928', 'pair561', 'pair2086', 'pair1096', 'pair1323', 'pair1902', 'pair2087', 'pair2534', 'pair1758', 'pair1930', 'pair2049', 'pair397', 'pair998', 'pair696', 'pair2449', 'pair2298', 'pair1168', 'pair2296', 'pair2624', 'pair2582', 'pair1435', 'pair559', 'pair192', 'pair17', 'pair1519', 'pair2150', 'pair1173', 'pair1191', 'pair768', 'pair1766', 'pair2279', 'pair1489', 'pair445', 'pair823', 'pair2539', 'pair1513', 'pair1205', 'pair2426', 'pair2456', 'pair2118', 'pair1248', 'pair2885', 'pair2855', 'pair1276', 'pair1270', 'pair1431', 'pair1076', 'pair1834', 'pair1137', 'pair190', 'pair2750', 'pair1726', 'pair1329', 'pair514', 'pair2490', 'pair917', 'pair227', 'pair1770', 'pair1512', 'pair1992', 'pair2625', 'pair908', 'pair1368', 'pair1029', 'pair2499', 'pair2770', 'pair1931', 'pair1289', 'pair1532', 'pair1693', 'pair483', 'pair1591']\n",
      "100\n",
      "Before shuffle:  ['pair1608', 'pair860', 'pair1807', 'pair280', 'pair496', 'pair2864', 'pair1251', 'pair1145', 'pair902', 'pair1288', 'pair2174', 'pair2052', 'pair2108', 'pair3024', 'pair2778', 'pair419', 'pair1397', 'pair1125', 'pair2194', 'pair1430', 'pair952', 'pair2757', 'pair509', 'pair1073', 'pair177', 'pair2306', 'pair1159', 'pair650', 'pair928', 'pair561', 'pair2086', 'pair1096', 'pair1323', 'pair1902', 'pair2087', 'pair2534', 'pair1758', 'pair1930', 'pair2049', 'pair397', 'pair998', 'pair696', 'pair2449', 'pair2298', 'pair1168', 'pair2296', 'pair2624', 'pair2582', 'pair1435', 'pair559', 'pair192', 'pair17', 'pair1519', 'pair2150', 'pair1173', 'pair1191', 'pair768', 'pair1766', 'pair2279', 'pair1489', 'pair445', 'pair823', 'pair2539', 'pair1513', 'pair1205', 'pair2426', 'pair2456', 'pair2118', 'pair1248', 'pair2885', 'pair2855', 'pair1276', 'pair1270', 'pair1431', 'pair1076', 'pair1834', 'pair1137', 'pair190', 'pair2750', 'pair1726', 'pair1329', 'pair514', 'pair2490', 'pair917', 'pair227', 'pair1770', 'pair1512', 'pair1992', 'pair2625', 'pair908', 'pair1368', 'pair1029', 'pair2499', 'pair2770', 'pair1931', 'pair1289', 'pair1532', 'pair1693', 'pair483', 'pair1591']\n",
      "After shuffle:  ['pair1096', 'pair2757', 'pair2194', 'pair2864', 'pair177', 'pair768', 'pair1137', 'pair1431', 'pair1902', 'pair1159', 'pair483', 'pair1758', 'pair1173', 'pair419', 'pair696', 'pair2279', 'pair2118', 'pair1513', 'pair561', 'pair1251', 'pair192', 'pair1248', 'pair1807', 'pair1329', 'pair1608', 'pair509', 'pair1519', 'pair1270', 'pair860', 'pair280', 'pair2426', 'pair2624', 'pair1288', 'pair1489', 'pair2150', 'pair1073', 'pair2456', 'pair2855', 'pair1770', 'pair1205', 'pair1029', 'pair1992', 'pair952', 'pair3024', 'pair1168', 'pair1766', 'pair1726', 'pair2086', 'pair650', 'pair1323', 'pair2049', 'pair1693', 'pair2087', 'pair1397', 'pair908', 'pair1591', 'pair1930', 'pair1368', 'pair397', 'pair2539', 'pair998', 'pair2770', 'pair1125', 'pair17', 'pair823', 'pair2499', 'pair2449', 'pair2108', 'pair1834', 'pair2778', 'pair1931', 'pair1145', 'pair917', 'pair2490', 'pair496', 'pair1289', 'pair1191', 'pair1532', 'pair227', 'pair2306', 'pair445', 'pair1430', 'pair2625', 'pair1076', 'pair2296', 'pair1512', 'pair2582', 'pair2750', 'pair928', 'pair1276', 'pair514', 'pair1435', 'pair2174', 'pair2885', 'pair559', 'pair2534', 'pair902', 'pair190', 'pair2298', 'pair2052']\n",
      "['pair1096#pair2757#pair2194#pair2864#pair177#pair768#pair1137#pair1431#pair1902#pair1159', 'pair483#pair1758#pair1173#pair419#pair696#pair2279#pair2118#pair1513#pair561#pair1251', 'pair192#pair1248#pair1807#pair1329#pair1608#pair509#pair1519#pair1270#pair860#pair280', 'pair2426#pair2624#pair1288#pair1489#pair2150#pair1073#pair2456#pair2855#pair1770#pair1205', 'pair1029#pair1992#pair952#pair3024#pair1168#pair1766#pair1726#pair2086#pair650#pair1323', 'pair2049#pair1693#pair2087#pair1397#pair908#pair1591#pair1930#pair1368#pair397#pair2539', 'pair998#pair2770#pair1125#pair17#pair823#pair2499#pair2449#pair2108#pair1834#pair2778', 'pair1931#pair1145#pair917#pair2490#pair496#pair1289#pair1191#pair1532#pair227#pair2306', 'pair445#pair1430#pair2625#pair1076#pair2296#pair1512#pair2582#pair2750#pair928#pair1276', 'pair514#pair1435#pair2174#pair2885#pair559#pair2534#pair902#pair190#pair2298#pair2052']\n"
     ]
    }
   ],
   "source": [
    "import pytorch_lightning as pl\n",
    "import glob, os\n",
    "import numpy as np\n",
    "import pandas as pd\n",
    "\n",
    "pl.seed_everything(4747)\n",
    "\n",
    "\n",
    "# n_subjects = 1000\n",
    "n_subjects = 300\n",
    "n_img_seen = 10\n",
    "\n",
    "# data = glob.glob('/home/mint/Dev/DiFaReli/user_study/difareli_user_study/change_bg/dat/randomly_for_mturk/eval_pairs/pair*')\n",
    "# data = glob.glob('./dat/randomly_for_mturk/eval_pairs/pair*')\n",
    "data_path = \"./dat/randomly_for_mturk/all_pairs_full/\"\n",
    "data = glob.glob(data_path + '/pair*')\n",
    "pre_def = [\n",
    "  1098, 1105, 1921, 1932, 1933, 185, 228, 244, 250, 252, 263, 274, 324, 406,\n",
    "  433, 459, 466, 511, 555, 567, 589, 590, 629, 734, 751, 755, 833, 883, 964, \n",
    "  1164, 1194, 1240, 1261, 1264, 1274, 1300, 1301, 1339, 1342, 1363, 1380, 1381, \n",
    "  1382, 1412, 1437, 1444, 1446, 1453, 1455, 1552, 1590, 1602, 1669, 1682, 1683, \n",
    "  1791, 1802, 1814, 1832, 1878, 2084, 2104, 2123, 2147, 2362, 2434, 2461, 2462,\n",
    "  2523, 2555, 2562, 2584, 2600, 2616, 2668, 2669, 2706, 2678, 2707, 2724, 2734, \n",
    "  2760, 2768, 2788, 2841, 2876, 2880, 2899, 2919, 2920, 2984, 3079\n",
    "]\n",
    "pre_def = sorted(pre_def)\n",
    "\n",
    "print(len(pre_def))\n",
    "\n",
    "pair_list = [x.split('/')[-1] for x in data]\n",
    "\n",
    "# Fill pre_def until reach n_subjects = 100 and not repeat\n",
    "for i in range(0, n_subjects - len(pre_def)):\n",
    "  while True:\n",
    "    idx = np.random.randint(1, len(pair_list)+1)\n",
    "    if idx not in pre_def:\n",
    "      pre_def.append(idx)\n",
    "      break\n",
    "\n",
    "sub_set = [100, 100, 100]\n",
    "\n",
    "pre_def = [f'pair{idx}' for idx in pre_def]\n",
    "pre_def_reidx = [f'pair{idx}' for idx in pre_def]\n",
    "\n",
    "# Create eval_pairs folder in pre_def\n",
    "os.makedirs(f'./dat/randomly_for_mturk/eval_pairs/', exist_ok=True)\n",
    "# os.makedirs(f'./dat/randomly_for_mturk/eval_pairs_reidx/', exist_ok=True)\n",
    "\n",
    "\n",
    "\n",
    "ptr = 0\n",
    "for idx, s in enumerate(sub_set):\n",
    "  sub_pre_def = pre_def[ptr:ptr+s].copy()\n",
    "  print(sub_pre_def)\n",
    "  print(len(sub_pre_def))\n",
    "  print(\"Before shuffle: \", sub_pre_def)\n",
    "  np.random.shuffle(sub_pre_def)\n",
    "  print(\"After shuffle: \", sub_pre_def)\n",
    "  \n",
    "  \n",
    "  # Create eval_pairs folder in pre_def\n",
    "  for counter, idx in enumerate(pre_def):\n",
    "    os.system(f'cp -r {data_path}/{idx} ./dat/randomly_for_mturk/eval_pairs/')\n",
    "  \n",
    "  pair_hits = ['#'.join(sub_pre_def[i:i + n_img_seen]) for i in range(0, len(sub_pre_def), n_img_seen)]\n",
    "  print(pair_hits)\n",
    "\n",
    "  radioGroupName = [1] * len(pair_hits)\n",
    "  scenario = [1] * len(pair_hits)\n",
    "  question = [1] * len(pair_hits)\n",
    "\n",
    "  input_csv = pd.DataFrame({'scenario': scenario,\n",
    "                            'question': question,\n",
    "                            'sj_name': pair_hits,\n",
    "                            'radioGroupName': radioGroupName,\n",
    "                          })\n",
    "\n",
    "  input_csv.to_csv(f'./tpami_userstudy_sub{idx}.csv', index=False)\n",
    "  ptr+=s"
   ]
  },
  {
   "cell_type": "code",
   "execution_count": 8,
   "metadata": {},
   "outputs": [
    {
     "name": "stderr",
     "output_type": "stream",
     "text": [
      "Global seed set to 42\n"
     ]
    }
   ],
   "source": [
    "import pytorch_lightning as pl\n",
    "import glob\n",
    "import numpy as np\n",
    "import pandas as pd\n",
    "\n",
    "pl.seed_everything(42)\n",
    "\n",
    "\n",
    "n_subjects = 1000\n",
    "n_img_seen = 5\n",
    "\n",
    "data = glob.glob('/home/mint/Dev/DiFaReli/user_study/difareli_user_study/change_bg/dat/randomly_for_mturk/eval_pairs/pair*')\n",
    "pair_list = [x.split('/')[-1] for x in data]\n",
    "np.random.shuffle(pair_list)\n",
    "pair_hits = ['#'.join(pair_list[i:i + n_img_seen]) for i in range(0, len(pair_list), n_img_seen)]\n",
    "\n",
    "radioGroupName = [1] * len(pair_hits)\n",
    "scenario = [1] * len(pair_hits)\n",
    "question = [1] * len(pair_hits)\n",
    "\n",
    "input_csv = pd.DataFrame({'scenario': scenario,\n",
    "                          'question': question,\n",
    "                          'sj_name': pair_hits,\n",
    "                          'radioGroupName': radioGroupName,\n",
    "                        })\n",
    "\n",
    "input_csv.to_csv('./input.csv', index=False)\n",
    "\n",
    "\n",
    "\n",
    "\n"
   ]
  }
 ],
 "metadata": {
  "kernelspec": {
   "display_name": "dpm_sampling_deca",
   "language": "python",
   "name": "python3"
  },
  "language_info": {
   "codemirror_mode": {
    "name": "ipython",
    "version": 3
   },
   "file_extension": ".py",
   "mimetype": "text/x-python",
   "name": "python",
   "nbconvert_exporter": "python",
   "pygments_lexer": "ipython3",
   "version": "3.8.12"
  }
 },
 "nbformat": 4,
 "nbformat_minor": 2
}
