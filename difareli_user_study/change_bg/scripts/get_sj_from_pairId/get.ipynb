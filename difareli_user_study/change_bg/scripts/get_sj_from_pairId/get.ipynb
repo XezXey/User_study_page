{
 "cells": [
  {
   "cell_type": "code",
   "execution_count": 23,
   "metadata": {},
   "outputs": [
    {
     "name": "stdout",
     "output_type": "stream",
     "text": [
      "[['pair2104', 'pair1412', 'pair459', 'pair1682', 'pair2465', 'pair228', 'pair1802', 'pair567', 'pair2876', 'pair1105'], ['pair1164', 'pair2461', 'pair433', 'pair1339', 'pair2647', 'pair1878', 'pair274', 'pair2706', 'pair1264', 'pair250'], ['pair1233', 'pair1455', 'pair883', 'pair96', 'pair1098', 'pair2724', 'pair1933', 'pair1300', 'pair2600', 'pair2584'], ['pair2766', 'pair1342', 'pair611', 'pair1683', 'pair2899', 'pair2616', 'pair714', 'pair1791', 'pair1453', 'pair2768'], ['pair833', 'pair2362', 'pair2920', 'pair1602', 'pair751', 'pair1261', 'pair964', 'pair2084', 'pair1446', 'pair1552'], ['pair1274', 'pair1380', 'pair2734', 'pair252', 'pair185', 'pair1669', 'pair589', 'pair1932', 'pair1921', 'pair1832'], ['pair1240', 'pair2919', 'pair1363', 'pair2678', 'pair1381', 'pair2669', 'pair466', 'pair1437', 'pair1590', 'pair263'], ['pair2434', 'pair2880', 'pair1814', 'pair2555', 'pair511', 'pair555', 'pair1444', 'pair244', 'pair2984', 'pair2123'], ['pair2707', 'pair3079', 'pair1382', 'pair406', 'pair755', 'pair2841', 'pair1301', 'pair2788', 'pair954', 'pair324'], ['pair2523', 'pair2562', 'pair590', 'pair734', 'pair629', 'pair2760', 'pair1194', 'pair2462', 'pair2668', 'pair2147']]\n",
      "[['pair906', 'pair306', 'pair2266', 'pair898', 'pair1581', 'pair1284', 'pair2967', 'pair2729', 'pair2869', 'pair2976'], ['pair588', 'pair1122', 'pair2656', 'pair1117', 'pair1865', 'pair76', 'pair2472', 'pair2891', 'pair2712', 'pair2581'], ['pair231', 'pair8', 'pair2219', 'pair2143', 'pair1312', 'pair3040', 'pair2040', 'pair2767', 'pair2529', 'pair2133'], ['pair1123', 'pair1', 'pair1893', 'pair188', 'pair2460', 'pair1389', 'pair989', 'pair730', 'pair260', 'pair399'], ['pair2657', 'pair1980', 'pair307', 'pair2260', 'pair1316', 'pair563', 'pair747', 'pair2980', 'pair596', 'pair2544'], ['pair2680', 'pair1570', 'pair799', 'pair53', 'pair2727', 'pair1631', 'pair36', 'pair1993', 'pair1460', 'pair787'], ['pair2799', 'pair2417', 'pair394', 'pair2996', 'pair1660', 'pair1889', 'pair2986', 'pair2103', 'pair2346', 'pair2210'], ['pair489', 'pair2144', 'pair414', 'pair754', 'pair2610', 'pair1351', 'pair2617', 'pair1717', 'pair411', 'pair2541'], ['pair351', 'pair507', 'pair1671', 'pair2629', 'pair435', 'pair2387', 'pair2626', 'pair1050', 'pair1027', 'pair2900'], ['pair1372', 'pair2850', 'pair2011', 'pair2120', 'pair841', 'pair181', 'pair2597', 'pair420', 'pair69', 'pair74']]\n",
      "[['pair1096', 'pair2757', 'pair2194', 'pair2864', 'pair177', 'pair768', 'pair1137', 'pair1431', 'pair1902', 'pair1159'], ['pair483', 'pair1758', 'pair1173', 'pair419', 'pair696', 'pair2279', 'pair2118', 'pair1513', 'pair561', 'pair1251'], ['pair192', 'pair1248', 'pair1807', 'pair1329', 'pair1608', 'pair509', 'pair1519', 'pair1270', 'pair860', 'pair280'], ['pair2426', 'pair2624', 'pair1288', 'pair1489', 'pair2150', 'pair1073', 'pair2456', 'pair2855', 'pair1770', 'pair1205'], ['pair1029', 'pair1992', 'pair952', 'pair3024', 'pair1168', 'pair1766', 'pair1726', 'pair2086', 'pair650', 'pair1323'], ['pair2049', 'pair1693', 'pair2087', 'pair1397', 'pair908', 'pair1591', 'pair1930', 'pair1368', 'pair397', 'pair2539'], ['pair998', 'pair2770', 'pair1125', 'pair17', 'pair823', 'pair2499', 'pair2449', 'pair2108', 'pair1834', 'pair2778'], ['pair1931', 'pair1145', 'pair917', 'pair2490', 'pair496', 'pair1289', 'pair1191', 'pair1532', 'pair227', 'pair2306'], ['pair445', 'pair1430', 'pair2625', 'pair1076', 'pair2296', 'pair1512', 'pair2582', 'pair2750', 'pair928', 'pair1276'], ['pair514', 'pair1435', 'pair2174', 'pair2885', 'pair559', 'pair2534', 'pair902', 'pair190', 'pair2298', 'pair2052']]\n",
      "['../../dat/randomly_for_mturk/eval_pairs//pair2104/src=63765.jpg_dst=65780.jpg.txt']\n",
      "['src=63765.jpg', 'dst=65780.jpg']\n"
     ]
    },
    {
     "ename": "AssertionError",
     "evalue": "",
     "output_type": "error",
     "traceback": [
      "\u001b[0;31m---------------------------------------------------------------------------\u001b[0m",
      "\u001b[0;31mAssertionError\u001b[0m                            Traceback (most recent call last)",
      "\u001b[0;32m/tmp/ipykernel_72592/1047069921.py\u001b[0m in \u001b[0;36m<module>\u001b[0;34m\u001b[0m\n\u001b[1;32m     23\u001b[0m     \u001b[0msj_name\u001b[0m \u001b[0;34m=\u001b[0m \u001b[0msj_name\u001b[0m\u001b[0;34m[\u001b[0m\u001b[0;36m0\u001b[0m\u001b[0;34m]\u001b[0m\u001b[0;34m.\u001b[0m\u001b[0msplit\u001b[0m\u001b[0;34m(\u001b[0m\u001b[0;34m'/'\u001b[0m\u001b[0;34m)\u001b[0m\u001b[0;34m[\u001b[0m\u001b[0;34m-\u001b[0m\u001b[0;36m1\u001b[0m\u001b[0;34m]\u001b[0m\u001b[0;34m[\u001b[0m\u001b[0;34m:\u001b[0m\u001b[0;34m-\u001b[0m\u001b[0;36m4\u001b[0m\u001b[0;34m]\u001b[0m\u001b[0;34m.\u001b[0m\u001b[0msplit\u001b[0m\u001b[0;34m(\u001b[0m\u001b[0;34m'_'\u001b[0m\u001b[0;34m)\u001b[0m\u001b[0;34m\u001b[0m\u001b[0;34m\u001b[0m\u001b[0m\n\u001b[1;32m     24\u001b[0m     \u001b[0mprint\u001b[0m\u001b[0;34m(\u001b[0m\u001b[0msj_name\u001b[0m\u001b[0;34m)\u001b[0m\u001b[0;34m\u001b[0m\u001b[0;34m\u001b[0m\u001b[0m\n\u001b[0;32m---> 25\u001b[0;31m     \u001b[0;32massert\u001b[0m \u001b[0;32mFalse\u001b[0m\u001b[0;34m\u001b[0m\u001b[0;34m\u001b[0m\u001b[0m\n\u001b[0m",
      "\u001b[0;31mAssertionError\u001b[0m: "
     ]
    }
   ],
   "source": [
    "import numpy as np\n",
    "import pandas as pd\n",
    "import json, tqdm, os, sys, glob\n",
    "path = '../../dat/randomly_for_mturk/eval_pairs/'\n",
    "pairs = os.listdir(path)\n",
    "\n",
    "pair_files = ['../../tpami_userstudy_sub0.csv', '../../tpami_userstudy_sub1.csv', '../../tpami_userstudy_sub2.csv']\n",
    "out = []\n",
    "for p in pair_files:\n",
    "    df = pd.read_csv(p)\n",
    "    pid = [i.split('#') for i in df['sj_name'].values]\n",
    "    print(pid)\n",
    "    out.append(pid)\n",
    "    \n",
    "# Flatten list\n",
    "out = list(np.array(out).flatten())\n",
    "\n",
    "js_file = {'pair':{}}\n",
    "for i, o in enumerate(out):\n",
    "    tmp_path = f'{path}/{o}/'\n",
    "    sj_name = glob.glob(f'{tmp_path}/src=*.txt')\n",
    "    assert len(sj_name) == 1\n",
    "    sj_name = sj_name[0].split('/')[-1][:-4].split('_')\n",
    "    src = sj_name[0].split('=')[-1]\n",
    "    dst = sj_name[1].split('=')[-1]\n",
    "    js_file['pair'][f'pair{i+1}'] = {\n",
    "        'src': src,\n",
    "        'dst': dst,\n",
    "        'pid_ref': o\n",
    "    }\n",
    "\n",
    "json.dump(js_file, open('user_study_sj.json', 'w'), indent=4)"
   ]
  }
 ],
 "metadata": {
  "kernelspec": {
   "display_name": "dpm_sampling_deca",
   "language": "python",
   "name": "python3"
  },
  "language_info": {
   "codemirror_mode": {
    "name": "ipython",
    "version": 3
   },
   "file_extension": ".py",
   "mimetype": "text/x-python",
   "name": "python",
   "nbconvert_exporter": "python",
   "pygments_lexer": "ipython3",
   "version": "3.8.12"
  }
 },
 "nbformat": 4,
 "nbformat_minor": 2
}
