{
 "cells": [
  {
   "cell_type": "code",
   "execution_count": 4,
   "id": "3f924a4c",
   "metadata": {},
   "outputs": [
    {
     "name": "stderr",
     "output_type": "stream",
     "text": [
      "Seed set to 47\n"
     ]
    },
    {
     "name": "stdout",
     "output_type": "stream",
     "text": [
      "['62011.jpg', '64683.jpg', '65068.jpg', '60632.jpg', '62733.jpg', '63387.jpg', '66988.jpg', '65956.jpg', '68387.jpg', '69340.jpg', '62747.jpg', '67985.jpg', '64576.jpg', '66162.jpg', '66419.jpg', '61002.jpg', '67523.jpg', '63600.jpg', '63825.jpg', '66814.jpg', '65969.jpg', '64609.jpg', '60236.jpg', '67077.jpg', '69618.jpg', '63932.jpg', '63664.jpg', '69214.jpg', '60354.jpg', '62501.jpg', '66168.jpg', '64981.jpg', '66755.jpg', '65797.jpg', '68570.jpg', '67641.jpg', '64012.jpg', '62467.jpg', '65929.jpg', '68863.jpg', '64334.jpg', '62633.jpg', '68130.jpg', '60501.jpg', '64548.jpg', '60006.jpg', '63590.jpg', '69516.jpg', '63881.jpg', '65621.jpg', '67524.jpg', '60609.jpg', '65539.jpg', '66085.jpg', '67144.jpg', '65950.jpg', '66498.jpg', '61379.jpg', '61689.jpg', '62305.jpg', '61722.jpg', '67458.jpg', '67270.jpg', '60205.jpg', '65104.jpg', '66356.jpg', '65284.jpg', '64763.jpg', '69307.jpg', '64695.jpg', '65267.jpg', '67362.jpg', '60420.jpg', '61053.jpg', '63266.jpg', '61029.jpg', '68333.jpg', '64587.jpg', '69049.jpg', '63157.jpg', '61553.jpg', '67135.jpg', '67047.jpg', '63047.jpg', '68286.jpg', '62288.jpg', '60210.jpg', '61643.jpg', '69695.jpg', '69157.jpg', '68092.jpg', '61188.jpg', '61037.jpg', '62848.jpg', '67455.jpg', '60165.jpg', '60922.jpg', '62292.jpg', '62775.jpg', '69812.jpg', '68542.jpg', '68472.jpg', '65857.jpg', '69809.jpg', '62205.jpg', '61343.jpg', '60902.jpg', '64745.jpg', '69161.jpg', '64137.jpg', '62514.jpg', '61413.jpg', '68033.jpg', '63692.jpg', '61780.jpg', '60230.jpg', '63212.jpg', '63765.jpg', '66809.jpg', '65913.jpg', '68804.jpg', '66744.jpg', '68016.jpg', '64220.jpg', '69378.jpg', '65401.jpg', '69755.jpg', '63503.jpg', '68658.jpg', '61992.jpg']\n",
      "20 20\n"
     ]
    }
   ],
   "source": [
    "import json\n",
    "import pytorch_lightning as pl\n",
    "import numpy as np\n",
    "pl.seed_everything(47)\n",
    "\n",
    "out_path = \"/home/mint/Dev/DiFaReli/difareli-faster/experiment_scripts/TPAMI/sample_json/TPAMI_MajorRevision/\"\n",
    "n = 20\n",
    "dst = '60000.jpg'\n",
    "\n",
    "sj_list = []\n",
    "in_sj = json.load(open(f\"{out_path}/aj_ake_samples.json\"))['pair']\n",
    "sj_list = [v['src'] for k, v in in_sj.items()]\n",
    "print(sj_list)\n",
    "\n",
    "out_sj = np.random.choice(sj_list, n, replace=False)\n",
    "out_sj = [64683, 66988, 62747, 64576, 63825, 60006, 65621, 65539, 67458, 65267, 63266, 61643, 64137, 62514, 61780, 66744, 66085, 69157, 64240, 67524]\n",
    "print(len(out_sj), len(set(out_sj)))\n",
    "\n",
    "out_dict = {'pair': {}}\n",
    "for idx, sj in enumerate(out_sj):\n",
    "    out_dict['pair'][f\"pair{idx+1}\"] = {'src': sj, 'dst': dst}\n",
    "    \n",
    "json.dump(out_dict, open(f\"{out_path}/user_study_rotateHDR.json\", 'w'), indent=4)"
   ]
  }
 ],
 "metadata": {
  "kernelspec": {
   "display_name": "dpm_sampling_deca_pysh",
   "language": "python",
   "name": "python3"
  },
  "language_info": {
   "codemirror_mode": {
    "name": "ipython",
    "version": 3
   },
   "file_extension": ".py",
   "mimetype": "text/x-python",
   "name": "python",
   "nbconvert_exporter": "python",
   "pygments_lexer": "ipython3",
   "version": "3.8.20"
  }
 },
 "nbformat": 4,
 "nbformat_minor": 5
}
