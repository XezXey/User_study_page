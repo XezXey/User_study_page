{
 "cells": [
  {
   "cell_type": "code",
   "execution_count": 10,
   "id": "31f70c07",
   "metadata": {},
   "outputs": [],
   "source": [
    "import os, glob, shutil\n",
    "path = \"/home/mint/Dev/DiFaReli/User_study_page/difareli_user_study/DiFaReli++_MajorRevision/dat/rotateSH_mturk/user_study_rotateSH_pairs_prepared_MajorRevision/\"\n",
    "target = \"/home/mint/Dev/DiFaReli/User_study_page/difareli_user_study/DiFaReli++_MajorRevision/dat/rotateSH_mturk/user_study_rotateSH_pairs_prepared_MajorRevision_images/\"\n",
    "def list_folders(path='.'):\n",
    "    \"\"\"\n",
    "    Lists all subdirectories (folders) within a given path.\n",
    "\n",
    "    Args:\n",
    "        path (str): The directory to search within. Defaults to the current directory.\n",
    "\n",
    "    Returns:\n",
    "        list: A list of strings, where each string is the name of a subdirectory.\n",
    "    \"\"\"\n",
    "    folders = []\n",
    "    for item in os.listdir(path):\n",
    "        item_path = os.path.join(path, item)\n",
    "        if os.path.isdir(item_path):\n",
    "            folders.append(item)\n",
    "    return folders\n",
    "\n",
    "os.makedirs(target, exist_ok=True)\n",
    "n = 20\n",
    "for p in range(1, n+1):\n",
    "    # List folders\n",
    "    folders = list_folders(f'{path}/pair{p}/')\n",
    "    # Move to target folder\n",
    "    os.makedirs(f'{target}/pair{p}/', exist_ok=True)\n",
    "    for folder in folders:\n",
    "        os.system(f'mv {path}/pair{p}/{folder} {target}/pair{p}/{folder}')\n",
    "    "
   ]
  },
  {
   "cell_type": "code",
   "execution_count": null,
   "id": "47074a78",
   "metadata": {},
   "outputs": [],
   "source": [
    "import os, glob, shutil\n",
    "path = \"/home/mint/Dev/DiFaReli/User_study_page/difareli_user_study/DiFaReli++_MajorRevision/dat/rotateHDR_mturk/user_study_rotateHDR_pairs_prepared_MajorRevision/\"\n",
    "target = \"/home/mint/Dev/DiFaReli/User_study_page/difareli_user_study/DiFaReli++_MajorRevision/dat/rotateHDR_mturk/user_study_rotateHDR_pairs_prepared_MajorRevision_images/\"\n",
    "def list_folders(path='.'):\n",
    "    \"\"\"\n",
    "    Lists all subdirectories (folders) within a given path.\n",
    "\n",
    "    Args:\n",
    "        path (str): The directory to search within. Defaults to the current directory.\n",
    "\n",
    "    Returns:\n",
    "        list: A list of strings, where each string is the name of a subdirectory.\n",
    "    \"\"\"\n",
    "    folders = []\n",
    "    for item in os.listdir(path):\n",
    "        item_path = os.path.join(path, item)\n",
    "        if os.path.isdir(item_path):\n",
    "            folders.append(item)\n",
    "    return folders\n",
    "\n",
    "os.makedirs(target, exist_ok=True)\n",
    "n = 20\n",
    "for p in range(1, n+1):\n",
    "    # List folders\n",
    "    folders = list_folders(f'{path}/pair{p}/')\n",
    "    # Move to target folder\n",
    "    os.makedirs(f'{target}/pair{p}/', exist_ok=True)\n",
    "    for folder in folders:\n",
    "        os.system(f'mv {path}/pair{p}/{folder} {target}/pair{p}/{folder}')\n",
    "    "
   ]
  }
 ],
 "metadata": {
  "kernelspec": {
   "display_name": "dpm_sampling_deca_pysh",
   "language": "python",
   "name": "python3"
  },
  "language_info": {
   "codemirror_mode": {
    "name": "ipython",
    "version": 3
   },
   "file_extension": ".py",
   "mimetype": "text/x-python",
   "name": "python",
   "nbconvert_exporter": "python",
   "pygments_lexer": "ipython3",
   "version": "3.8.20"
  }
 },
 "nbformat": 4,
 "nbformat_minor": 5
}
