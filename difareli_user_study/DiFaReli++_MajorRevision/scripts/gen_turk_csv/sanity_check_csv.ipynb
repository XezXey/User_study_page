{
 "cells": [
  {
   "cell_type": "code",
   "execution_count": 16,
   "id": "e907f073",
   "metadata": {},
   "outputs": [
    {
     "name": "stdout",
     "output_type": "stream",
     "text": [
      "[#] File = ./targetSH.csv: All pairs contain all templates.\n"
     ]
    }
   ],
   "source": [
    "import pandas as pd\n",
    "import numpy as np\n",
    "file = './targetSH.csv'\n",
    "template_list = ['difareli++-vs-ic_light', 'difareli++-vs-total_relighting', 'difareli++-vs-hou21_shadowm', 'difareli++-vs-relipa', 'difareli++-vs-diffusionrig', 'difareli++-vs-hou22_geom']\n",
    "# file = './rotateSH.csv'\n",
    "# template_list = ['difareli++-vs-ic_light', 'difareli++-vs-hou21_shadowm', 'difareli++-vs-relipa', 'difareli++-vs-diffusionrig', 'difareli++-vs-hou22_geom']\n",
    "df = pd.read_csv(file)\n",
    "sj_name = df['sj_name'].tolist()\n",
    "vs_name = df['vs_name'].tolist()\n",
    "\n",
    "pair_dict = {}\n",
    "for i in range(len(sj_name)):\n",
    "    each_row_sj = sj_name[i].split('#')\n",
    "    each_row_vs = vs_name[i].split('#')\n",
    "    # print(each_row_sj)\n",
    "    # print(each_row_vs)\n",
    "    for j in range(len(each_row_sj)):\n",
    "        sj_tmp = each_row_sj[j]\n",
    "        vs_tmp = each_row_vs[j]\n",
    "        if sj_tmp not in pair_dict.keys():\n",
    "            pair_dict[sj_tmp] = [vs_tmp]\n",
    "        else:\n",
    "            pair_dict[sj_tmp].append(vs_tmp)\n",
    "\n",
    "\n",
    "failed = False\n",
    "# Check all pairs need to contain elements in template_list\n",
    "for key in pair_dict.keys():\n",
    "    for template in template_list:\n",
    "        if template not in pair_dict[key]:\n",
    "            print(f\"Warning: {key} does not contain {template}\")\n",
    "            failed = True\n",
    "    if len(pair_dict[key]) != len(template_list):\n",
    "        print(f\"Warning: {key} does not contain all templates, only {pair_dict[key]}\")\n",
    "        failed = True\n",
    "if not failed:\n",
    "    print(f\"[#] File = {file}: All pairs contain all templates.\")"
   ]
  }
 ],
 "metadata": {
  "kernelspec": {
   "display_name": "dpm_sampling_deca_pysh",
   "language": "python",
   "name": "python3"
  },
  "language_info": {
   "codemirror_mode": {
    "name": "ipython",
    "version": 3
   },
   "file_extension": ".py",
   "mimetype": "text/x-python",
   "name": "python",
   "nbconvert_exporter": "python",
   "pygments_lexer": "ipython3",
   "version": "3.8.20"
  }
 },
 "nbformat": 4,
 "nbformat_minor": 5
}
